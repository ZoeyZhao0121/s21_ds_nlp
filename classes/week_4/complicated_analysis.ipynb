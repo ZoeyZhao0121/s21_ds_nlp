{
 "cells": [
  {
   "cell_type": "code",
   "execution_count": null,
   "metadata": {},
   "outputs": [],
   "source": [
    "from os import listdir\n",
    "from os.path import isfile, join\n",
    "\n",
    "dir_base = \"/Users/teacher/repos/f20_ds_nlp/classes/week_4/data/\"\n",
    "\n",
    "\n",
    "def read_file(filename):\n",
    "    input_file_text = open(filename , encoding='utf-8').read()\n",
    "    return input_file_text\n",
    "deposition = read_file(join(dir_base, \"sample_deposition.txt\"))\n",
    "print(deposition)"
   ]
  },
  {
   "cell_type": "code",
   "execution_count": null,
   "metadata": {},
   "outputs": [],
   "source": [
    "for line in deposition.split(\"\\n\"):\n",
    "    print(line)"
   ]
  },
  {
   "cell_type": "code",
   "execution_count": null,
   "metadata": {},
   "outputs": [],
   "source": [
    "for line in deposition.split(\"\\n\"):\n",
    "    if line[0:2] == \"Q.\":\n",
    "        print(\"Questions\")\n",
    "    if line[0:2] == \"A.\":\n",
    "        print(\"Answers\")"
   ]
  },
  {
   "cell_type": "code",
   "execution_count": null,
   "metadata": {},
   "outputs": [],
   "source": [
    "from nltk.tree import *\n",
    "from stanfordcorenlp import StanfordCoreNLP\n",
    "\n",
    "#nlp = StanfordCoreNLP(r'C:\\Users\\skunath\\Downloads\\stanford-corenlp-full-2018-02-27')\n",
    "nlp = StanfordCoreNLP('http://localhost', port=9000)\n",
    "\n",
    "\n",
    "\n",
    "for line in deposition.split(\"\\n\"):\n",
    "    if line[0:2] == \"Q.\":\n",
    "        sentence = line[3:]\n",
    "        constituency = nlp.parse(sentence)\n",
    "        print('Constituency Parsing:', constituency)\n",
    "        Tree.fromstring(constituency).pretty_print()\n",
    "        const_tree = Tree.fromstring(constituency)\n",
    "\n",
    "        \n",
    "nlp.close() # Do not forget to close! The backend server will consume a lot memery.\n",
    "\n",
    "        "
   ]
  },
  {
   "cell_type": "code",
   "execution_count": null,
   "metadata": {},
   "outputs": [],
   "source": []
  }
 ],
 "metadata": {
  "kernelspec": {
   "display_name": "Python 3",
   "language": "python",
   "name": "python3"
  },
  "language_info": {
   "codemirror_mode": {
    "name": "ipython",
    "version": 3
   },
   "file_extension": ".py",
   "mimetype": "text/x-python",
   "name": "python",
   "nbconvert_exporter": "python",
   "pygments_lexer": "ipython3",
   "version": "3.7.6"
  }
 },
 "nbformat": 4,
 "nbformat_minor": 2
}
