{
 "cells": [
  {
   "cell_type": "markdown",
   "metadata": {},
   "source": [
    "# Regular Expressions"
   ]
  },
  {
   "cell_type": "markdown",
   "metadata": {},
   "source": [
    "We frequently wish to be able to evaluate text that we might be processing. We will use regular expressions to do this."
   ]
  },
  {
   "cell_type": "code",
   "execution_count": 1,
   "metadata": {},
   "outputs": [
    {
     "name": "stdout",
     "output_type": "stream",
     "text": [
      "True\n",
      "False\n"
     ]
    }
   ],
   "source": [
    "import re\n",
    "\n",
    "text = \"cab\"\n",
    "print(text == \"cab\")\n",
    "print(text == \"ca\")"
   ]
  },
  {
   "cell_type": "markdown",
   "metadata": {},
   "source": [
    "One challenge with the above comparison is that it must be exact. Would it be possible to instead describe what we are trying to match?"
   ]
  },
  {
   "cell_type": "code",
   "execution_count": 2,
   "metadata": {},
   "outputs": [
    {
     "name": "stdout",
     "output_type": "stream",
     "text": [
      "None\n"
     ]
    }
   ],
   "source": [
    "pattern = re.compile(\"c\")\n",
    "print(pattern.fullmatch(text))"
   ]
  },
  {
   "cell_type": "code",
   "execution_count": 3,
   "metadata": {},
   "outputs": [
    {
     "name": "stdout",
     "output_type": "stream",
     "text": [
      "<re.Match object; span=(0, 3), match='cab'>\n"
     ]
    }
   ],
   "source": [
    "pattern = re.compile(\"cab\")\n",
    "print(pattern.fullmatch(text))"
   ]
  },
  {
   "cell_type": "markdown",
   "metadata": {},
   "source": [
    "Is there any way that we can make our match criteria more flexible? For example, if we knew that the pattern we were looking for contained a consonant in (c,d,f) then a vowel in (a,e,i) and then another consonant in (b,t,y,p)?\n",
    "\n",
    "We could exhaustively construct the output possibilities. But perhaps we can describe what we want to match."
   ]
  },
  {
   "cell_type": "code",
   "execution_count": 4,
   "metadata": {},
   "outputs": [
    {
     "name": "stdout",
     "output_type": "stream",
     "text": [
      "<re.Match object; span=(0, 3), match='cab'>\n"
     ]
    }
   ],
   "source": [
    "pattern = re.compile(\"[cdf][aei][btyp]\")\n",
    "print(pattern.fullmatch(text))"
   ]
  },
  {
   "cell_type": "markdown",
   "metadata": {},
   "source": [
    "What if we are told the vowels in the middle might repeat? Can we change the expression to handle this?"
   ]
  },
  {
   "cell_type": "code",
   "execution_count": 5,
   "metadata": {},
   "outputs": [
    {
     "name": "stdout",
     "output_type": "stream",
     "text": [
      "<re.Match object; span=(0, 3), match='cab'>\n",
      "<re.Match object; span=(0, 4), match='caab'>\n"
     ]
    }
   ],
   "source": [
    "pattern = re.compile(\"[cdf][aei]*[btyp]\")\n",
    "print(pattern.fullmatch(text))\n",
    "text2 = \"caab\"\n",
    "print(pattern.fullmatch(text2))"
   ]
  },
  {
   "cell_type": "markdown",
   "metadata": {},
   "source": [
    "But might this not be the best expression to capture these pieces of text? Imagine we encounter a word without a vowel."
   ]
  },
  {
   "cell_type": "code",
   "execution_count": 6,
   "metadata": {},
   "outputs": [
    {
     "name": "stdout",
     "output_type": "stream",
     "text": [
      "<re.Match object; span=(0, 3), match='cab'>\n",
      "<re.Match object; span=(0, 4), match='caab'>\n",
      "<re.Match object; span=(0, 2), match='cb'>\n"
     ]
    }
   ],
   "source": [
    "pattern = re.compile(\"[cdf][aei]*[btyp]\")\n",
    "print(pattern.fullmatch(text))\n",
    "print(pattern.fullmatch(text2))\n",
    "text3 = \"cb\"\n",
    "print(pattern.fullmatch(text3))"
   ]
  },
  {
   "cell_type": "markdown",
   "metadata": {},
   "source": [
    "It's matched even without a vowel. This could be a problem. So we might replace the * with the +.\n",
    "The * will match 0 or more instances while the + will require 1 or more instances."
   ]
  },
  {
   "cell_type": "code",
   "execution_count": 7,
   "metadata": {},
   "outputs": [
    {
     "name": "stdout",
     "output_type": "stream",
     "text": [
      "<re.Match object; span=(0, 3), match='cab'>\n",
      "<re.Match object; span=(0, 4), match='caab'>\n",
      "None\n"
     ]
    }
   ],
   "source": [
    "pattern = re.compile(\"[cdf][aei]+[btyp]\")\n",
    "print(pattern.fullmatch(text))\n",
    "print(pattern.fullmatch(text2))\n",
    "print(pattern.fullmatch(text3))"
   ]
  },
  {
   "cell_type": "markdown",
   "metadata": {},
   "source": [
    "What if we only want to match with an ending that has one consonant and no more? Currently we can only use the * or +."
   ]
  },
  {
   "cell_type": "code",
   "execution_count": 8,
   "metadata": {},
   "outputs": [
    {
     "name": "stdout",
     "output_type": "stream",
     "text": [
      "<re.Match object; span=(0, 3), match='cab'>\n",
      "<re.Match object; span=(0, 4), match='caab'>\n",
      "None\n",
      "None\n"
     ]
    }
   ],
   "source": [
    "pattern = re.compile(\"[cdf][aei]+[btyp]?\")\n",
    "print(pattern.fullmatch(text))\n",
    "print(pattern.fullmatch(text2))\n",
    "print(pattern.fullmatch(text3))\n",
    "text4 = \"cabb\"\n",
    "print(pattern.fullmatch(text4))"
   ]
  },
  {
   "cell_type": "markdown",
   "metadata": {},
   "source": [
    "What if we are concerned that the last character of the word might be an additional character we are not aware of or not be alphanumeric? Can we still catch those?"
   ]
  },
  {
   "cell_type": "code",
   "execution_count": 9,
   "metadata": {},
   "outputs": [
    {
     "name": "stdout",
     "output_type": "stream",
     "text": [
      "<re.Match object; span=(0, 3), match='cab'>\n",
      "<re.Match object; span=(0, 4), match='caab'>\n",
      "None\n",
      "None\n",
      "None\n",
      "<re.Match object; span=(0, 4), match='cab?'>\n"
     ]
    }
   ],
   "source": [
    "pattern = re.compile(\"[cdf][aei]+[btyp]?\")\n",
    "print(pattern.fullmatch(text))\n",
    "print(pattern.fullmatch(text2))\n",
    "print(pattern.fullmatch(text3))\n",
    "text4 = \"cabb\"\n",
    "print(pattern.fullmatch(text4))\n",
    "text5 = \"cab?\"\n",
    "print(pattern.fullmatch(text5))\n",
    "\n",
    "pattern = re.compile(\"[cdf][aei]+[btyp].\")\n",
    "print(pattern.fullmatch(text5))\n",
    "\n"
   ]
  },
  {
   "cell_type": "markdown",
   "metadata": {},
   "source": [
    "But how would this be useful in NLP? Perhaps we can use this to inspect tokens?"
   ]
  },
  {
   "cell_type": "code",
   "execution_count": 10,
   "metadata": {},
   "outputs": [
    {
     "name": "stdout",
     "output_type": "stream",
     "text": [
      "['Specifically', ',', 'we', 'reviewed', 'the', 'AN/ASQ‑235', 'Airborne', 'Mine', 'Neutralization', 'System', '(', 'AMNS', ')', ',', 'Airborne', 'Laser', 'Mine', 'Detection', 'System', '(', 'ALMDS', ')', ',', 'and', 'Coastal', 'Battlefield', 'Reconnaissance', 'and', 'Analysis', '(', 'COBRA', ')', 'Block', 'I', 'systems', '.']\n"
     ]
    }
   ],
   "source": [
    "from nltk.tokenize import TreebankWordTokenizer\n",
    "treebank_tokenizer = TreebankWordTokenizer()\n",
    "\n",
    "input = \"Specifically, we reviewed the AN/ASQ‑235 Airborne Mine Neutralization System (AMNS), Airborne Laser Mine Detection System (ALMDS), and Coastal Battlefield Reconnaissance and Analysis (COBRA) Block I systems.\"\n",
    "tokens = treebank_tokenizer.tokenize(input)\n",
    "print(tokens)\n"
   ]
  },
  {
   "cell_type": "code",
   "execution_count": 11,
   "metadata": {},
   "outputs": [
    {
     "name": "stdout",
     "output_type": "stream",
     "text": [
      "None\n",
      "None\n",
      "<re.Match object; span=(0, 2), match='we'>\n",
      "None\n",
      "None\n",
      "None\n",
      "None\n",
      "None\n",
      "None\n",
      "None\n",
      "None\n",
      "None\n",
      "None\n",
      "None\n",
      "None\n",
      "None\n",
      "None\n",
      "None\n",
      "None\n",
      "None\n",
      "None\n",
      "None\n",
      "None\n",
      "None\n",
      "None\n",
      "None\n",
      "None\n",
      "None\n",
      "None\n",
      "None\n",
      "None\n",
      "None\n",
      "None\n",
      "None\n",
      "None\n",
      "None\n"
     ]
    }
   ],
   "source": [
    "pattern = re.compile(\"[w][aei]\")\n",
    "for token in tokens:\n",
    "    print(pattern.fullmatch(token))"
   ]
  },
  {
   "cell_type": "markdown",
   "metadata": {},
   "source": [
    "What if we are interested in getting uppercase?"
   ]
  },
  {
   "cell_type": "code",
   "execution_count": 17,
   "metadata": {},
   "outputs": [
    {
     "name": "stdout",
     "output_type": "stream",
     "text": [
      "None\n",
      "None\n",
      "None\n",
      "None\n",
      "None\n",
      "None\n",
      "None\n",
      "None\n",
      "None\n",
      "None\n",
      "None\n",
      "<re.Match object; span=(0, 4), match='AMNS'>\n",
      "None\n",
      "None\n",
      "None\n",
      "None\n",
      "None\n",
      "None\n",
      "None\n",
      "None\n",
      "<re.Match object; span=(0, 5), match='ALMDS'>\n",
      "None\n",
      "None\n",
      "None\n",
      "None\n",
      "None\n",
      "None\n",
      "None\n",
      "None\n",
      "None\n",
      "<re.Match object; span=(0, 5), match='COBRA'>\n",
      "None\n",
      "None\n",
      "<re.Match object; span=(0, 1), match='I'>\n",
      "None\n",
      "None\n"
     ]
    }
   ],
   "source": [
    "pattern = re.compile(\"[mMiInNeE]+\")\n",
    "pattern = re.compile(\"[A-Z0-9/-]+\")\n",
    "for token in tokens:\n",
    "    print(pattern.fullmatch(token))"
   ]
  },
  {
   "cell_type": "code",
   "execution_count": null,
   "metadata": {},
   "outputs": [],
   "source": []
  }
 ],
 "metadata": {
  "kernelspec": {
   "display_name": "Python 3",
   "language": "python",
   "name": "python3"
  },
  "language_info": {
   "codemirror_mode": {
    "name": "ipython",
    "version": 3
   },
   "file_extension": ".py",
   "mimetype": "text/x-python",
   "name": "python",
   "nbconvert_exporter": "python",
   "pygments_lexer": "ipython3",
   "version": "3.7.6"
  }
 },
 "nbformat": 4,
 "nbformat_minor": 2
}
